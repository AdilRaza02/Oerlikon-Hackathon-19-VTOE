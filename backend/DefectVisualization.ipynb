{
 "cells": [
  {
   "cell_type": "code",
   "execution_count": 1,
   "metadata": {},
   "outputs": [],
   "source": [
    "import firebase_admin\n",
    "from firebase_admin import credentials, firestore\n",
    "# from firebase_admin import db\n",
    "\n",
    "cred = credentials.Certificate(\"./serviceAccountKey.json\")\n",
    "default_app = firebase_admin.initialize_app(cred)\n",
    "\n",
    "db = firestore.client()"
   ]
  },
  {
   "cell_type": "code",
   "execution_count": 2,
   "metadata": {},
   "outputs": [],
   "source": [
    "unitdata = db.collection('InitialData').stream()"
   ]
  },
  {
   "cell_type": "code",
   "execution_count": 5,
   "metadata": {},
   "outputs": [],
   "source": [
    "listdata = []\n",
    "\n",
    "for udata in unitdata:\n",
    "    uid = udata.id\n",
    "    udict = udata.to_dict()\n",
    "    \n",
    "    defect = udict['defective']\n",
    "    full_index = udict['full_index']\n",
    "    full_position = udict['full_position']\n",
    "    \n",
    "    listdata.append((uid, defect, full_index, full_position))"
   ]
  },
  {
   "cell_type": "code",
   "execution_count": 6,
   "metadata": {},
   "outputs": [
    {
     "name": "stdout",
     "output_type": "stream",
     "text": [
      "9998\n"
     ]
    }
   ],
   "source": [
    "print(len(listdata))"
   ]
  },
  {
   "cell_type": "code",
   "execution_count": 14,
   "metadata": {},
   "outputs": [],
   "source": [
    "defect_units = filter(lambda x: x[1] == True, listdata) "
   ]
  },
  {
   "cell_type": "code",
   "execution_count": 15,
   "metadata": {},
   "outputs": [
    {
     "data": {
      "text/plain": [
       "67"
      ]
     },
     "execution_count": 15,
     "metadata": {},
     "output_type": "execute_result"
    }
   ],
   "source": [
    "defect_units = list(defect_units)\n",
    "len(defect_units)"
   ]
  },
  {
   "cell_type": "code",
   "execution_count": 17,
   "metadata": {},
   "outputs": [
    {
     "name": "stdout",
     "output_type": "stream",
     "text": [
      "('Unit1065', True, 'Stack 3, Bucket 2, Row 7, Column 4__Rotator 1, Cylinder 2, Pipe 8, Height 2', 'high__low')\n"
     ]
    }
   ],
   "source": [
    "print(defect_units[0])"
   ]
  },
  {
   "cell_type": "code",
   "execution_count": 19,
   "metadata": {},
   "outputs": [
    {
     "name": "stdout",
     "output_type": "stream",
     "text": [
      "{'high': 19, 'low': 29, 'mid': 19}\n",
      "{'low': 25, 'mid': 23, 'high': 19}\n"
     ]
    }
   ],
   "source": [
    "stack_defect = {}\n",
    "rotator_defect = {}\n",
    "\n",
    "for du in defect_units:\n",
    "    _stack, _rotator = du[3].split(\"__\")\n",
    "    \n",
    "    if _stack not in stack_defect:\n",
    "        stack_defect[_stack] = 0\n",
    "    stack_defect[_stack] += 1\n",
    "    \n",
    "    if _rotator not in rotator_defect:\n",
    "        rotator_defect[_rotator] = 0\n",
    "    rotator_defect[_rotator] += 1\n",
    "    \n",
    "print(stack_defect)\n",
    "print(rotator_defect)"
   ]
  },
  {
   "cell_type": "code",
   "execution_count": 21,
   "metadata": {},
   "outputs": [
    {
     "name": "stdout",
     "output_type": "stream",
     "text": [
      "{'Stack 3': 3, 'Stack 4': 5, 'Stack 0': 1, 'Stack 5': 1, 'Stack 6': 2, 'Stack 7': 2, 'Stack 10': 3, 'Stack 11': 1, 'Stack 12': 4, 'Stack 14': 3, 'Stack 15': 1, 'Stack 16': 1, 'Stack 17': 2, 'Stack 18': 3, 'Stack 1': 1, 'Stack 19': 2, 'Stack 20': 1, 'Stack 21': 3, 'Stack 2': 1, 'Stack 22': 4, 'Stack 23': 1, 'Stack 24': 2, 'Stack 25': 1, 'Stack 26': 2, 'Stack 27': 1, 'Stack 28': 3, 'Stack 29': 4, 'Stack 30': 3, 'Stack 32': 1, 'Stack 33': 2, 'Stack 35': 1, 'Stack 36': 2}\n",
      "{'Rotator 1': 9, 'Rotator 0': 3, 'Rotator 2': 4, 'Rotator 3': 4, 'Rotator 4': 7, 'Rotator 5': 4, 'Rotator 6': 6, 'Rotator 7': 8, 'Rotator 8': 5, 'Rotator 9': 8, 'Rotator 10': 4, 'Rotator 11': 3, 'Rotator 12': 2}\n"
     ]
    }
   ],
   "source": [
    "stack_num_defect = {}\n",
    "rotator_num_defect = {}\n",
    "\n",
    "for du in defect_units:\n",
    "    _stack, _rotator = du[2].split(\"__\")\n",
    "    \n",
    "    _stack_num, _stack_bucket, _stack_row, _stack_col = _stack.split(\", \")\n",
    "    _rotator_num, _rotator_cylinder, _rotator_pipe, _rotator_height = _rotator.split(\", \")\n",
    "    \n",
    "    if _stack_num not in stack_num_defect:\n",
    "        stack_num_defect[_stack_num] = 0\n",
    "    stack_num_defect[_stack_num] += 1\n",
    "    \n",
    "    if _rotator_num not in rotator_num_defect:\n",
    "        rotator_num_defect[_rotator_num] = 0\n",
    "    rotator_num_defect[_rotator_num] += 1\n",
    "    \n",
    "print(stack_num_defect)\n",
    "print(rotator_num_defect)"
   ]
  },
  {
   "cell_type": "code",
   "execution_count": null,
   "metadata": {},
   "outputs": [],
   "source": []
  },
  {
   "cell_type": "code",
   "execution_count": null,
   "metadata": {},
   "outputs": [],
   "source": []
  },
  {
   "cell_type": "code",
   "execution_count": null,
   "metadata": {},
   "outputs": [],
   "source": []
  },
  {
   "cell_type": "code",
   "execution_count": 22,
   "metadata": {},
   "outputs": [
    {
     "data": {
      "text/plain": [
       "<google.cloud.firestore_v1.client.Client at 0x1124b5d90>"
      ]
     },
     "execution_count": 22,
     "metadata": {},
     "output_type": "execute_result"
    }
   ],
   "source": [
    "db"
   ]
  },
  {
   "cell_type": "code",
   "execution_count": 25,
   "metadata": {},
   "outputs": [],
   "source": [
    "tmp_db_data = db.collection('StaticData').where('partNum', '>=', 0).where('partNum', '<', 50).stream()"
   ]
  },
  {
   "cell_type": "code",
   "execution_count": 26,
   "metadata": {},
   "outputs": [
    {
     "name": "stdout",
     "output_type": "stream",
     "text": [
      "Unit1 0\n",
      "Unit2 1\n",
      "Unit3 2\n",
      "Unit4 3\n",
      "Unit5 4\n",
      "Unit6 5\n",
      "Unit7 6\n",
      "Unit8 7\n",
      "Unit9 8\n",
      "Unit10 9\n",
      "Unit11 10\n",
      "Unit12 11\n",
      "Unit13 12\n",
      "Unit14 13\n",
      "Unit15 14\n",
      "Unit16 15\n",
      "Unit17 16\n",
      "Unit18 17\n",
      "Unit19 18\n",
      "Unit20 19\n",
      "Unit21 20\n",
      "Unit22 21\n",
      "Unit23 22\n",
      "Unit24 23\n",
      "Unit25 24\n",
      "Unit26 25\n",
      "Unit27 26\n",
      "Unit28 27\n",
      "Unit29 28\n",
      "Unit30 29\n",
      "Unit31 30\n",
      "Unit32 31\n",
      "Unit33 32\n",
      "Unit34 33\n",
      "Unit35 34\n",
      "Unit36 35\n",
      "Unit37 36\n",
      "Unit38 37\n",
      "Unit39 38\n",
      "Unit40 39\n",
      "Unit41 40\n",
      "Unit42 41\n",
      "Unit43 42\n",
      "Unit44 43\n",
      "Unit45 44\n",
      "Unit46 45\n",
      "Unit47 46\n",
      "Unit48 47\n",
      "Unit49 48\n",
      "Unit50 49\n"
     ]
    }
   ],
   "source": [
    "for _t in tmp_db_data:\n",
    "    _t_id = _t.id\n",
    "    _t_dict = _t.to_dict()\n",
    "    \n",
    "    print(_t_id, _t_dict['partNum'])"
   ]
  },
  {
   "cell_type": "code",
   "execution_count": null,
   "metadata": {},
   "outputs": [],
   "source": []
  }
 ],
 "metadata": {
  "kernelspec": {
   "display_name": "Python 3",
   "language": "python",
   "name": "python3"
  },
  "language_info": {
   "codemirror_mode": {
    "name": "ipython",
    "version": 3
   },
   "file_extension": ".py",
   "mimetype": "text/x-python",
   "name": "python",
   "nbconvert_exporter": "python",
   "pygments_lexer": "ipython3",
   "version": "3.7.4"
  }
 },
 "nbformat": 4,
 "nbformat_minor": 2
}
