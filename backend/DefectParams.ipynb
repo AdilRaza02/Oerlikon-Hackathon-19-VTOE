{
 "cells": [
  {
   "cell_type": "code",
   "execution_count": 1,
   "metadata": {},
   "outputs": [],
   "source": [
    "import firebase_admin\n",
    "from firebase_admin import credentials, firestore\n",
    "# from firebase_admin import db\n",
    "\n",
    "cred = credentials.Certificate(\"./serviceAccountKey.json\")\n",
    "default_app = firebase_admin.initialize_app(cred)\n",
    "\n",
    "db = firestore.client()"
   ]
  },
  {
   "cell_type": "code",
   "execution_count": 2,
   "metadata": {},
   "outputs": [],
   "source": [
    "unitdata = db.collection('StaticData').stream()"
   ]
  },
  {
   "cell_type": "code",
   "execution_count": 3,
   "metadata": {},
   "outputs": [],
   "source": [
    "listdata = []\n",
    "\n",
    "for udata in unitdata:\n",
    "    uid = udata.id\n",
    "    udict = udata.to_dict()\n",
    "    \n",
    "    defect = udict['defective']\n",
    "    batch_num = udict['batch_num']\n",
    "    full_index = udict['full_index']\n",
    "    full_position = udict['full_position']\n",
    "    timestamp = udict['timestamp']\n",
    "    \n",
    "    listdata.append((uid, defect, full_index, full_position, batch_num, timestamp))"
   ]
  },
  {
   "cell_type": "code",
   "execution_count": 4,
   "metadata": {},
   "outputs": [
    {
     "name": "stdout",
     "output_type": "stream",
     "text": [
      "10000\n",
      "('Unit1', False, 'Batch 0, Stack 0, Bucket 0, Row 0, Column 0__Batch 0, Rotator 0, Cylinder 0, Pipe 0, Height 0', 'low__low', 0, 1573345196)\n"
     ]
    }
   ],
   "source": [
    "print(len(listdata))\n",
    "print(listdata[0])"
   ]
  },
  {
   "cell_type": "code",
   "execution_count": 5,
   "metadata": {},
   "outputs": [],
   "source": [
    "defect_units = filter(lambda x: x[1] == True, listdata)"
   ]
  },
  {
   "cell_type": "code",
   "execution_count": 7,
   "metadata": {},
   "outputs": [
    {
     "data": {
      "text/plain": [
       "107"
      ]
     },
     "execution_count": 7,
     "metadata": {},
     "output_type": "execute_result"
    }
   ],
   "source": [
    "defect_units = list(defect_units)\n",
    "len(defect_units)"
   ]
  },
  {
   "cell_type": "code",
   "execution_count": 8,
   "metadata": {},
   "outputs": [
    {
     "name": "stdout",
     "output_type": "stream",
     "text": [
      "{'high': 32, 'mid': 44, 'low': 31}\n",
      "{'mid': 36, 'high': 41, 'low': 30}\n"
     ]
    }
   ],
   "source": [
    "stack_level = {}\n",
    "rotator_level = {}\n",
    "\n",
    "for du in defect_units:\n",
    "    sl, rl = du[3].split(\"__\")\n",
    "    \n",
    "    if sl not in stack_level:\n",
    "        stack_level[sl] = 0\n",
    "    stack_level[sl] += 1\n",
    "    \n",
    "    if rl not in rotator_level:\n",
    "        rotator_level[rl] = 0\n",
    "    rotator_level[rl] += 1\n",
    "    \n",
    "print(stack_level)\n",
    "print(rotator_level)"
   ]
  },
  {
   "cell_type": "code",
   "execution_count": 9,
   "metadata": {},
   "outputs": [
    {
     "name": "stdout",
     "output_type": "stream",
     "text": [
      "{'Stack 3': 11, 'Stack 0': 12, 'Stack 5': 11, 'Stack 6': 11, 'Stack 7': 11, 'Stack 8': 6, 'Stack 9': 3, 'Stack 10': 9, 'Stack 11': 11, 'Stack 1': 8, 'Stack 2': 8, 'Stack 4': 6}\n",
      "{'Rotator 1': 28, 'Rotator 0': 28, 'Rotator 2': 28, 'Rotator 3': 23}\n"
     ]
    }
   ],
   "source": [
    "stack_id_wise = {}\n",
    "rotator_id_wise = {}\n",
    "\n",
    "for du in defect_units:\n",
    "    sid, rid = du[2].split(\"__\")[0].split(\", \")[1], du[2].split(\"__\")[1].split(\", \")[1]\n",
    "    \n",
    "    if sid not in stack_id_wise:\n",
    "        stack_id_wise[sid] = 0\n",
    "    stack_id_wise[sid] += 1\n",
    "    \n",
    "    if rid not in rotator_id_wise:\n",
    "        rotator_id_wise[rid] = 0\n",
    "    rotator_id_wise[rid] += 1\n",
    "    \n",
    "print(stack_id_wise)\n",
    "print(rotator_id_wise)"
   ]
  },
  {
   "cell_type": "code",
   "execution_count": 10,
   "metadata": {},
   "outputs": [
    {
     "name": "stdout",
     "output_type": "stream",
     "text": [
      "{'Batch 0': 32, 'Batch 1': 34, 'Batch 2': 38, 'Batch 3': 3}\n"
     ]
    }
   ],
   "source": [
    "batch_wise = {}\n",
    "\n",
    "for du in defect_units:\n",
    "    bid = du[2].split(\", \")[0]\n",
    "    \n",
    "    if bid not in batch_wise:\n",
    "        batch_wise[bid] = 0\n",
    "    batch_wise[bid] += 1\n",
    "    \n",
    "print(batch_wise)"
   ]
  },
  {
   "cell_type": "code",
   "execution_count": 24,
   "metadata": {},
   "outputs": [
    {
     "data": {
      "text/plain": [
       "[[1, 12],\n",
       " [2, 17],\n",
       " [3, 3],\n",
       " [4, 15],\n",
       " [5, 17],\n",
       " [6, 2],\n",
       " [7, 15],\n",
       " [8, 17],\n",
       " [9, 6],\n",
       " [10, 3]]"
      ]
     },
     "execution_count": 24,
     "metadata": {},
     "output_type": "execute_result"
    }
   ],
   "source": [
    "import datetime\n",
    "import time\n",
    "\n",
    "hourwise = {}\n",
    "\n",
    "for du in defect_units:\n",
    "    ts = du[5]\n",
    "    dt = datetime.datetime.fromtimestamp(ts)\n",
    "    dthour = dt.hour\n",
    "    \n",
    "    if str(dthour) not in hourwise:\n",
    "        hourwise[str(dthour)] = 0\n",
    "    hourwise[str(dthour)] += 1\n",
    "    \n",
    "hourwise2 = []\n",
    "for k, v in hourwise.items():\n",
    "    hourwise2.append([int(k), v])\n",
    "    \n",
    "hourwise2 = list(sorted(hourwise2))\n",
    "hourwise2"
   ]
  },
  {
   "cell_type": "code",
   "execution_count": 17,
   "metadata": {},
   "outputs": [
    {
     "name": "stdout",
     "output_type": "stream",
     "text": [
      "10000\n",
      "{'low': 3340, 'mid': 3330, 'high': 3330}\n",
      "{'low': 3334, 'mid': 3333, 'high': 3333}\n",
      "{'Stack 0': 1080, 'Stack 3': 810, 'Stack 1': 820, 'Stack 4': 810, 'Stack 5': 810, 'Stack 6': 810, 'Stack 7': 810, 'Stack 8': 810, 'Stack 9': 810, 'Stack 10': 810, 'Stack 11': 810, 'Stack 2': 810}\n",
      "{'Rotator 0': 2710, 'Rotator 1': 2430, 'Rotator 2': 2430, 'Rotator 3': 2430}\n",
      "{'Batch 0': 3240, 'Batch 3': 280, 'Batch 1': 3240, 'Batch 2': 3240}\n",
      "{'1': 1350, '10': 280, '2': 1620, '3': 270, '4': 1350, '5': 1620, '6': 270, '7': 1350, '8': 1620, '9': 270}\n"
     ]
    }
   ],
   "source": [
    "stack_level_total = {}\n",
    "rotator_level_total = {}\n",
    "\n",
    "stack_id_wise_total = {}\n",
    "rotator_id_wise_total = {}\n",
    "\n",
    "batch_wise_total = {}\n",
    "hourwise_total = {}\n",
    "\n",
    "print(len(listdata))\n",
    "\n",
    "\n",
    "for ld in listdata:\n",
    "    sl, rl = ld[3].split(\"__\")\n",
    "    \n",
    "    if sl not in stack_level_total:\n",
    "        stack_level_total[sl] = 0\n",
    "    stack_level_total[sl] += 1\n",
    "    \n",
    "    if rl not in rotator_level_total:\n",
    "        rotator_level_total[rl] = 0\n",
    "    rotator_level_total[rl] += 1\n",
    "    \n",
    "\n",
    "for ld in listdata:\n",
    "    sid, rid = ld[2].split(\"__\")[0].split(\", \")[1], ld[2].split(\"__\")[1].split(\", \")[1]\n",
    "    \n",
    "    if sid not in stack_id_wise_total:\n",
    "        stack_id_wise_total[sid] = 0\n",
    "    stack_id_wise_total[sid] += 1\n",
    "    \n",
    "    if rid not in rotator_id_wise_total:\n",
    "        rotator_id_wise_total[rid] = 0\n",
    "    rotator_id_wise_total[rid] += 1\n",
    "    \n",
    "    \n",
    "for ld in listdata:\n",
    "    bid = ld[2].split(\", \")[0]\n",
    "    \n",
    "    if bid not in batch_wise_total:\n",
    "        batch_wise_total[bid] = 0\n",
    "    batch_wise_total[bid] += 1\n",
    "    \n",
    "    \n",
    "for ld in listdata:\n",
    "    ts = ld[5]\n",
    "    dt = datetime.datetime.fromtimestamp(ts)\n",
    "    dthour = dt.hour\n",
    "    \n",
    "    if str(dthour) not in hourwise_total:\n",
    "        hourwise_total[str(dthour)] = 0\n",
    "    hourwise_total[str(dthour)] += 1\n",
    "    \n",
    "    \n",
    "print(stack_level_total)\n",
    "print(rotator_level_total)\n",
    "print(stack_id_wise_total)\n",
    "print(rotator_id_wise_total)\n",
    "print(batch_wise_total)\n",
    "print(hourwise_total)"
   ]
  },
  {
   "cell_type": "code",
   "execution_count": 25,
   "metadata": {},
   "outputs": [
    {
     "data": {
      "text/plain": [
       "[[1, 1350],\n",
       " [2, 1620],\n",
       " [3, 270],\n",
       " [4, 1350],\n",
       " [5, 1620],\n",
       " [6, 270],\n",
       " [7, 1350],\n",
       " [8, 1620],\n",
       " [9, 270],\n",
       " [10, 280]]"
      ]
     },
     "execution_count": 25,
     "metadata": {},
     "output_type": "execute_result"
    }
   ],
   "source": [
    "hourwise_total2 = []\n",
    "for k, v in hourwise_total.items():\n",
    "    hourwise_total2.append([int(k), v])\n",
    "    \n",
    "hourwise_total2 = list(sorted(hourwise_total2))\n",
    "hourwise_total2"
   ]
  },
  {
   "cell_type": "code",
   "execution_count": null,
   "metadata": {},
   "outputs": [],
   "source": [
    "level - **Bar Chart** <Stack / Rotator vs Count> \n",
    "Number - **Line Chart** Stack Wise / Rotator Wise  / 2x Units as well\n",
    "Batch - **Pie Chart** / 2x Units as well\n",
    "Hourly - **Line Chart** / 2x Units as well"
   ]
  },
  {
   "cell_type": "code",
   "execution_count": 46,
   "metadata": {},
   "outputs": [],
   "source": [
    "chartdata = {\n",
    "    \"stackLevelChart_X\": [\"low\", \"mid\", \"high\"],\n",
    "    \"stackLevelChart_Y\": [stack_level[\"low\"], stack_level[\"mid\"], stack_level[\"high\"]],\n",
    "    \"rotatorLevelCheck_X\": [\"low\", \"mid\", \"high\"],\n",
    "    \"rotatorLevelCheck_Y\": [rotator_level[\"low\"], rotator_level[\"mid\"], rotator_level[\"high\"]],\n",
    "    \"batchPieChart_X\": [\"Batch 0\", \"Batch 1\", \"Batch 2\", \"Batch 3\"],\n",
    "    \"batchPieChart_Y\": [batch_wise[\"Batch 0\"], batch_wise[\"Batch 1\"], batch_wise[\"Batch 2\"], batch_wise[\"Batch 3\"]],\n",
    "    \"batchTotal_X\": [\"Batch 0\", \"Batch 1\", \"Batch 2\", \"Batch 3\"],\n",
    "    \"batchTotal_Y\": [batch_wise_total[\"Batch 0\"], batch_wise_total[\"Batch 1\"], batch_wise_total[\"Batch 2\"], batch_wise_total[\"Batch 3\"]],\n",
    "    \"HourlyLineChart_X\": [x[0] for x in hourwise2],\n",
    "    \"HourlyLineChart_Y\": [x[1] for x in hourwise2],\n",
    "    \"HourlyTotalChart_X\": [x[0] for x in hourwise_total2],\n",
    "    \"HourlyTotalChart_Y\": [x[1] for x in hourwise_total2]\n",
    "}"
   ]
  },
  {
   "cell_type": "code",
   "execution_count": 47,
   "metadata": {},
   "outputs": [
    {
     "data": {
      "text/plain": [
       "{'stackLevelChart_X': ['low', 'mid', 'high'],\n",
       " 'stackLevelChart_Y': [31, 44, 32],\n",
       " 'rotatorLevelCheck_X': ['low', 'mid', 'high'],\n",
       " 'rotatorLevelCheck_Y': [30, 36, 41],\n",
       " 'batchPieChart_X': ['Batch 0', 'Batch 1', 'Batch 2', 'Batch 3'],\n",
       " 'batchPieChart_Y': [32, 34, 38, 3],\n",
       " 'batchTotal_X': ['Batch 0', 'Batch 1', 'Batch 2', 'Batch 3'],\n",
       " 'batchTotal_Y': [3240, 3240, 3240, 280],\n",
       " 'HourlyLineChart_X': [1, 2, 3, 4, 5, 6, 7, 8, 9, 10],\n",
       " 'HourlyLineChart_Y': [12, 17, 3, 15, 17, 2, 15, 17, 6, 3],\n",
       " 'HourlyTotalChart_X': [1, 2, 3, 4, 5, 6, 7, 8, 9, 10],\n",
       " 'HourlyTotalChart_Y': [1350,\n",
       "  1620,\n",
       "  270,\n",
       "  1350,\n",
       "  1620,\n",
       "  270,\n",
       "  1350,\n",
       "  1620,\n",
       "  270,\n",
       "  280]}"
      ]
     },
     "execution_count": 47,
     "metadata": {},
     "output_type": "execute_result"
    }
   ],
   "source": [
    "chartdata"
   ]
  },
  {
   "cell_type": "code",
   "execution_count": 49,
   "metadata": {},
   "outputs": [
    {
     "data": {
      "text/plain": [
       "update_time {\n",
       "  seconds: 1573353955\n",
       "  nanos: 190364000\n",
       "}"
      ]
     },
     "execution_count": 49,
     "metadata": {},
     "output_type": "execute_result"
    }
   ],
   "source": [
    "doc_ref = db.collection(\"Stats\").document(\"chartData\")\n",
    "doc_ref.set(chartdata)"
   ]
  },
  {
   "cell_type": "code",
   "execution_count": 51,
   "metadata": {},
   "outputs": [
    {
     "data": {
      "text/plain": [
       "{'rotatorLevelCheck_X': ['low', 'mid', 'high'],\n",
       " 'rotatorLevelCheck_Y': [30, 36, 41],\n",
       " 'HourlyLineChart_X': [1, 2, 3, 4, 5, 6, 7, 8, 9, 10],\n",
       " 'HourlyTotalChart_X': [1, 2, 3, 4, 5, 6, 7, 8, 9, 10],\n",
       " 'HourlyTotalChart_Y': [1350,\n",
       "  1620,\n",
       "  270,\n",
       "  1350,\n",
       "  1620,\n",
       "  270,\n",
       "  1350,\n",
       "  1620,\n",
       "  270,\n",
       "  280],\n",
       " 'HourlyLineChart_Y': [12, 17, 3, 15, 17, 2, 15, 17, 6, 3],\n",
       " 'batchPieChart_X': ['Batch 0', 'Batch 1', 'Batch 2', 'Batch 3'],\n",
       " 'batchPieChart_Y': [32, 34, 38, 3],\n",
       " 'batchTotal_X': ['Batch 0', 'Batch 1', 'Batch 2', 'Batch 3'],\n",
       " 'batchTotal_Y': [3240, 3240, 3240, 280],\n",
       " 'stackLevelChart_X': ['low', 'mid', 'high'],\n",
       " 'stackLevelChart_Y': [31, 44, 32]}"
      ]
     },
     "execution_count": 51,
     "metadata": {},
     "output_type": "execute_result"
    }
   ],
   "source": [
    "db.collection(\"Stats\").document(\"chartData\").get().to_dict()"
   ]
  },
  {
   "cell_type": "code",
   "execution_count": null,
   "metadata": {},
   "outputs": [],
   "source": []
  }
 ],
 "metadata": {
  "kernelspec": {
   "display_name": "Python 3",
   "language": "python",
   "name": "python3"
  },
  "language_info": {
   "codemirror_mode": {
    "name": "ipython",
    "version": 3
   },
   "file_extension": ".py",
   "mimetype": "text/x-python",
   "name": "python",
   "nbconvert_exporter": "python",
   "pygments_lexer": "ipython3",
   "version": "3.7.4"
  }
 },
 "nbformat": 4,
 "nbformat_minor": 2
}
